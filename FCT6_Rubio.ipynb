{
  "nbformat": 4,
  "nbformat_minor": 0,
  "metadata": {
    "colab": {
      "provenance": [],
      "authorship_tag": "ABX9TyPfA22oDfJsgHi8EOeA/y3M",
      "include_colab_link": true
    },
    "kernelspec": {
      "name": "python3",
      "display_name": "Python 3"
    },
    "language_info": {
      "name": "python"
    }
  },
  "cells": [
    {
      "cell_type": "markdown",
      "metadata": {
        "id": "view-in-github",
        "colab_type": "text"
      },
      "source": [
        "<a href=\"https://colab.research.google.com/github/Clodellet/Clodellet.github.io/blob/main/FCT6_Rubio.ipynb\" target=\"_parent\"><img src=\"https://colab.research.google.com/assets/colab-badge.svg\" alt=\"Open In Colab\"/></a>"
      ]
    },
    {
      "cell_type": "markdown",
      "source": [
        "# Tarea 6\n",
        "<font color='violet'>Rubio Ruiz Claudia Daniela<br>\n",
        "Física Computacional\n",
        "</font>  "
      ],
      "metadata": {
        "id": "V7bJfFfbjzVT"
      }
    },
    {
      "cell_type": "markdown",
      "source": [
        "## 5. El péndulo doble"
      ],
      "metadata": {
        "id": "QWPQ3Q3aj6hP"
      }
    },
    {
      "cell_type": "markdown",
      "source": [
        "### (a) Deriva una expresión para la energía total E = T + V del sistema en términos de las variables $\\theta_1, \\theta_2$ y $\\omega_1, \\omega_2$ más las constantes g, m  y l."
      ],
      "metadata": {
        "id": "xDfbigqXkQIt"
      }
    },
    {
      "cell_type": "markdown",
      "source": [
        "Del apéndice A tenemos que las alturas de las dos pesas, medidas desde el nivel del pivote, son:\n",
        "\n",
        "> $h_1=-l\\cos\\theta_1, h_2=-l(\\cos\\theta_1+\\cos\\theta_2)$\n",
        "\n",
        "Por lo que la energía potencial $V=mgh_1+mgh_2$ es:\n",
        "\n",
        ">$V=mg(-l\\cos\\theta_1)+mg(-l(\\cos\\theta_1+\\cos\\theta_2))=-mgl(2\\cos\\theta_1+\\cos\\theta_2)$\n",
        "\n",
        "Mientras que las velocidades lineales de las dos pesas están dadas por:\n",
        "\n",
        ">$v_1=l\\dot{\\theta_1}, v_2^2=l^2(\\dot{\\theta_1^2}+\\dot{\\theta_2^2}+2\\dot{\\theta_1}\\dot{\\theta_2}\\cos(\\theta_1-\\theta_2)) $\n",
        "\n",
        "Por lo que la energía cinética $T=\\frac{1}{2}m(v_1^2+v_2^2)$ es:\n",
        "\n",
        ">$T=\\frac{1}{2}m(l^2\\dot{\\theta_1^2}+l^2(\\dot{\\theta_1^2}+\\dot{\\theta_2^2}+2\\dot{\\theta_1}\\dot{\\theta_2}\\cos(\\theta_1-\\theta_2)))$\n",
        "\n",
        ">$=\\frac{1}{2}ml^2(2\\dot{\\theta_1^2}+\\dot{\\theta_2^2}+2\\dot{\\theta_1}\\dot{\\theta_2}\\cos(\\theta_1-\\theta_2))$\n",
        "\n",
        "De modo que E = T + V:\n",
        "\n",
        ">$E = (\\frac{1}{2}ml^2[2\\dot{\\theta_1^2}+\\dot{\\theta_2^2}+2\\dot{\\theta_1}\\dot{\\theta_2}\\cos(\\theta_1-\\theta_2)]) + (-mgl(2\\cos\\theta_1+\\cos\\theta_2))$\n",
        "\n",
        "\n"
      ],
      "metadata": {
        "id": "N7g6Qg69nlSy"
      }
    },
    {
      "cell_type": "markdown",
      "source": [
        "Como $\\dot{\\theta_1}=\\omega_1$ y $\\dot{\\theta_2}=\\omega_2$\n",
        "\n",
        "$⇒E = \\frac{1}{2}ml^2[2\\omega_1^2+\\omega_2^2+2\\omega_1\\omega_2\\cos(\\theta_1-\\theta_2)] -mgl(2\\cos\\theta_1+\\cos\\theta_2)$"
      ],
      "metadata": {
        "id": "2XDG7R39tSBv"
      }
    },
    {
      "cell_type": "markdown",
      "source": [
        "### (b) Escribe un programa usando el método de Runge-Kutta de cuarto orden, para resolver las ecuaciones de movimiento para el caso donde l=40 cm, con las condiciones iniciales $\\theta_1=\\theta_2=90°$ y $\\omega_1=\\omega_2=0$.\n",
        "Usa tu programa para calcular la energía total del sistema suponiendo que la masa de las pesas es de 1kg cada una, y haz una gráfica de la energía en función del tiempo desde t=0 hasta t=100 segundos."
      ],
      "metadata": {
        "id": "V8NAIPIVxmR_"
      }
    },
    {
      "cell_type": "markdown",
      "source": [
        "Las ecuaciones de movimiento están dadas como:\n",
        "\n",
        "$\\dot{\\omega_1}=-\\frac{\\omega_1^2\\sin(2\\theta_1-2\\theta_2)+2\\omega_2^2\\sin(\\theta_1-\\theta_2)+(g/l)[\\sin(\\theta_1-2\\theta_2)+3\\sin\\theta_1]}{3-\\cos(2\\theta_1-2\\theta_2)}$\n",
        "\n",
        "$\\dot{\\omega_2}=\\frac{4\\omega_1^2\\sin(\\theta_1-\\theta_2)+\\omega_2^2\\sin(2\\theta_1-2\\theta_2)+2(g/l)[\\sin(2\\theta_1-\\theta_2)-\\sin\\theta_2]}{3-\\cos(2\\theta_1-2\\theta_2)}$"
      ],
      "metadata": {
        "id": "R20wziXK0c-K"
      }
    },
    {
      "cell_type": "code",
      "execution_count": null,
      "metadata": {
        "id": "Zcxjm8i5js_j"
      },
      "outputs": [],
      "source": []
    }
  ]
}